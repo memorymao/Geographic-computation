{
 "cells": [
  {
   "cell_type": "markdown",
   "metadata": {},
   "source": [
    "## Raster Data Processing with Python"
   ]
  },
  {
   "attachments": {},
   "cell_type": "markdown",
   "metadata": {},
   "source": [
    "### Acquire data using GeoWeb Services \n",
    " - __WCS (Web Coverage Service)__ <br>\n",
    "WCS is a standard OGC Standard, which is supported by GeoServer, an open-source geoservices software, and ArcGIS Server. WCS offers multi-dimensional coverage data for access over the Internet.\n",
    " - __WMS (Web Map Service) and WMTS (Web Map Tile Service)__\n",
    "WMS and WMTS are also OGC standards. They serve pre-rendered images over the Internet, but those images are used for display in the browser, not suitable for further analysis."
   ]
  },
  {
   "attachments": {},
   "cell_type": "markdown",
   "metadata": {},
   "source": [
    "#### Use OWSLib Library\n",
    "\n",
    "For more information, see [this tutorial on Raster Handling with Python](https://geoscripting-wur.github.io/PythonRaster/) and [the OWSLib GitHub](https://github.com/geopython/OWSLib) and [Documentation](https://geopython.github.io/OWSLib/).\n",
    "<p>\n",
    "Unfortunately, it seems the MLC WCS service does not respond to request at this moment. Most applications use WMS, instead."
   ]
  },
  {
   "cell_type": "code",
   "execution_count": null,
   "metadata": {},
   "outputs": [],
   "source": [
    "import requests\n",
    "import json\n",
    "import geopandas as gpd\n",
    "import fiona \n",
    "from owslib.wcs import WebCoverageService"
   ]
  },
  {
   "attachments": {},
   "cell_type": "markdown",
   "metadata": {},
   "source": [
    "US Land Cover Data are available through MRLC (Multi-resolution Land Characteristics Consortium)\n",
    "https://www.mrlc.gov/data-services-page"
   ]
  },
  {
   "cell_type": "code",
   "execution_count": null,
   "metadata": {},
   "outputs": [],
   "source": [
    "lyrs = fiona.listlayers('./us_census.gpkg')\n",
    "print(lyrs)"
   ]
  },
  {
   "cell_type": "code",
   "execution_count": null,
   "metadata": {},
   "outputs": [],
   "source": [
    "# Load the shapefile and get the bounding box\n",
    "aoi = gpd.read_file('./us_census.gpkg', layer = lyrs[1], driver = 'GPKG').query('NAME == \"Kings\"')\n",
    "bbox = aoi.to_crs('epsg:4326').bounds.values[0]; # 5070 is used by NLCD\n",
    "print(bbox)"
   ]
  },
  {
   "cell_type": "code",
   "execution_count": null,
   "metadata": {},
   "outputs": [],
   "source": [
    "wcs = WebCoverageService('https://www.mrlc.gov/geoserver/mrlc_download/NLCD_2019_Land_Cover_L48/wcs?service=WCS', version='2.0.1')\n",
    "print(list(wcs.contents))"
   ]
  },
  {
   "cell_type": "code",
   "execution_count": null,
   "metadata": {},
   "outputs": [],
   "source": [
    "print([op.name for op in wcs.operations])"
   ]
  },
  {
   "cell_type": "code",
   "execution_count": null,
   "metadata": {},
   "outputs": [],
   "source": [
    "# Take the 0.5m DSM as an example\n",
    "cvg = wcs.contents['mrlc_download__NLCD_2019_Land_Cover_L48']\n",
    "\n",
    "# Print supported reference systems, the bounding box defined in WGS 84 coordinates, and supported file formats\n",
    "print(wcs.contents.keys())\n",
    "print(wcs['mrlc_download__NLCD_2019_Land_Cover_L48'].id)\n",
    "print(cvg.boundingboxes)\n",
    "print(cvg.supportedFormats)"
   ]
  },
  {
   "cell_type": "code",
   "execution_count": null,
   "metadata": {},
   "outputs": [],
   "source": [
    "# Define a bounding box in the available crs (see before) by picking a point and drawing a 1x1 km box around it\n",
    "# bbox = aoi.to_crs('epsg:5070').bounds.values[0]\n",
    "#bbox = (x - 500, y - 500, x + 500, y + 500)\n",
    "\n",
    "# Request the DSM data from the WCS\n",
    "response = wcs.getCoverage(identifier=[wcs['mrlc_download__NLCD_2019_Land_Cover_L48'].id], \n",
    "                            bbox=bbox, \n",
    "                            format='image/tiff',\n",
    "                            crs='urn:ogc:def:crs:EPSG::4326',\n",
    "                            width=200, height=200, timeout = 120)\n",
    "\n",
    "# Write the data to a local file in the 'data' directory\n",
    "with open('mrlc_nlcd_2019_nys.tif', 'wb') as file:\n",
    "    file.write(response.read())\n"
   ]
  },
  {
   "attachments": {},
   "cell_type": "markdown",
   "metadata": {},
   "source": [
    "#### Use Plain HTTP Request\n",
    "\n",
    "Not recommended. Not working either. See [an online example](https://medium.com/@caserobertson/python-national-land-cover-database-nlcd-example-ea11408eaef5\n",
    ")."
   ]
  },
  {
   "cell_type": "code",
   "execution_count": null,
   "metadata": {},
   "outputs": [],
   "source": [
    "# Load the shapefile and get the bounding box\n",
    "import requests\n",
    "import json\n",
    "import geopandas as gpd\n",
    "\n",
    "# Define the API endpoint and parameters\n",
    "url = 'https://www.mrlc.gov/geoserver/wcs'\n",
    "params = {\n",
    "    'service': 'wcs',\n",
    "    'version': '1.1.1',\n",
    "    'request': 'GetCoverage',\n",
    "    'identifier': 'NLCD_2016_Land_Cover_L48',\n",
    "    'format': 'image/tiff',\n",
    "    'scaleFactor': '1',\n",
    "    'interpolation': 'nearest-neighbor'\n",
    "}\n",
    "\n",
    "# Load the shapefile and get the bounding box\n",
    "bbox = aoi.to_crs('epsg:4326').bounds.values[0]\n",
    "\n",
    "# Add the subset parameter to the API request\n",
    "# params['crs'] = \"EPSG:4326\"\n",
    "params['BoundingBox'] = f'{bbox[0]},{bbox[1]},{bbox[2]},{bbox[3]},EPSG:4326'\n",
    "\n",
    "# Send the request to the API endpoint\n",
    "response = requests.get(url, params=params)\n",
    "\n",
    "# Save the response to a file\n",
    "with open('nlcd_data.tif', 'wb') as f:\n",
    "    f.write(response.content)\n"
   ]
  },
  {
   "attachments": {},
   "cell_type": "markdown",
   "metadata": {},
   "source": [
    "### Read Local Raster Files"
   ]
  },
  {
   "attachments": {},
   "cell_type": "markdown",
   "metadata": {},
   "source": [
    "As directly reading raster data using WCS is not quite reliable, we often use local files for raster data.\n",
    "\n"
   ]
  },
  {
   "attachments": {},
   "cell_type": "markdown",
   "metadata": {},
   "source": [
    "#### One band land cover data\n",
    "The data was downloaded from MRLC website. It has been clipped to New York State. The pixels have also been reclassifed to have two binary values for residential/developed land vs others."
   ]
  },
  {
   "cell_type": "code",
   "execution_count": null,
   "metadata": {},
   "outputs": [],
   "source": [
    "import rasterio \n",
    "import numpy as np\n",
    "import pandas as pd\n",
    "from rasterio import plot as rioplot\n",
    "from matplotlib import pyplot as plt"
   ]
  },
  {
   "cell_type": "code",
   "execution_count": null,
   "metadata": {},
   "outputs": [],
   "source": [
    "src = rasterio.open(\"./ny_lc/LU_NY.tif\", driver='GTIFF')\n",
    "print(src)"
   ]
  },
  {
   "cell_type": "code",
   "execution_count": null,
   "metadata": {},
   "outputs": [],
   "source": [
    "def printRasterAttribute(rstDat):\n",
    "    print(\"Dataset Name: {}. Band number {}\\n \\\n",
    "       Image width: {}, Image Height: {} \\n \\\n",
    "       Band Indexes:{}, Band data type: {} \\n\\\n",
    "       Image CRS: {} with bounds of \\n{}\".format(rstDat.name, rstDat.count, \n",
    "       rstDat.width, rstDat.height,\n",
    "       rstDat.indexes, rstDat.dtypes,\n",
    "       rstDat.crs, rstDat.bounds))"
   ]
  },
  {
   "cell_type": "code",
   "execution_count": null,
   "metadata": {},
   "outputs": [],
   "source": [
    "printRasterAttribute(src)"
   ]
  },
  {
   "cell_type": "code",
   "execution_count": null,
   "metadata": {},
   "outputs": [],
   "source": [
    "# Read all bands, with be a three dimensional ndarray\n",
    "bands = src.read()\n",
    "print(list(bands.shape))"
   ]
  },
  {
   "cell_type": "code",
   "execution_count": null,
   "metadata": {},
   "outputs": [],
   "source": [
    "# We can directly access the band using numpy methods\n",
    "print(list(bands[0].shape))"
   ]
  },
  {
   "cell_type": "code",
   "execution_count": null,
   "metadata": {},
   "outputs": [],
   "source": [
    "bands[0][0:10, 0:10]"
   ]
  },
  {
   "cell_type": "code",
   "execution_count": null,
   "metadata": {},
   "outputs": [],
   "source": [
    "# Read a specific band\n",
    "# Note the band index base is one, instead of zero\n",
    "band1 = src.read(1)\n",
    "\n",
    "plt.imshow(band1, cmap='pink')\n",
    "plt.show()"
   ]
  },
  {
   "cell_type": "code",
   "execution_count": null,
   "metadata": {},
   "outputs": [],
   "source": [
    "print(type(band1))\n",
    "print(list(band1.shape))"
   ]
  },
  {
   "attachments": {},
   "cell_type": "markdown",
   "metadata": {},
   "source": [
    "For basic `numpy` operations, see [the cheat sheet](https://assets.datacamp.com/blog_assets/Numpy_Python_Cheat_Sheet.pdf)."
   ]
  },
  {
   "cell_type": "code",
   "execution_count": null,
   "metadata": {},
   "outputs": [],
   "source": [
    "def printBandAttribute(bandDat):\n",
    "    print('Dimension of the ndarray is {}. \\n \\\n",
    "            Data Type is {}.\\n \\\n",
    "            min is {}, max is {}, \\n \\\n",
    "            unique values: {}'.format(\n",
    "        list(bandDat.shape), \n",
    "        bandDat.dtype,\n",
    "        bandDat.min(),\n",
    "        bandDat.max(),\n",
    "        np.unique(bandDat)))\n"
   ]
  },
  {
   "cell_type": "code",
   "execution_count": null,
   "metadata": {},
   "outputs": [],
   "source": [
    "printBandAttribute(band1)"
   ]
  },
  {
   "cell_type": "code",
   "execution_count": null,
   "metadata": {},
   "outputs": [],
   "source": [
    "printBandAttribute(bands[0])"
   ]
  },
  {
   "cell_type": "code",
   "execution_count": null,
   "metadata": {},
   "outputs": [],
   "source": [
    "rioplot.show_hist(band1, bins=64)"
   ]
  },
  {
   "cell_type": "code",
   "execution_count": null,
   "metadata": {},
   "outputs": [],
   "source": [
    "rioplot.show(band1)"
   ]
  },
  {
   "cell_type": "code",
   "execution_count": null,
   "metadata": {},
   "outputs": [],
   "source": [
    "band1[band1 == 127] = 0\n",
    "rioplot.show(band1)"
   ]
  },
  {
   "cell_type": "code",
   "execution_count": null,
   "metadata": {},
   "outputs": [],
   "source": [
    "printBandAttribute(band1)"
   ]
  },
  {
   "cell_type": "code",
   "execution_count": null,
   "metadata": {},
   "outputs": [],
   "source": [
    "# We can covert the image to an array, then to a single column of pandas DataFrame\n",
    "pd.DataFrame(band1.ravel()).describe()"
   ]
  },
  {
   "cell_type": "code",
   "execution_count": null,
   "metadata": {},
   "outputs": [],
   "source": [
    "# What does this do?\n",
    "sumStats = {str(x):len(band1[band1 == x]) for x in np.unique(band1)}\n",
    "print(sumStats)"
   ]
  },
  {
   "attachments": {},
   "cell_type": "markdown",
   "metadata": {},
   "source": [
    "#### Multiband Image"
   ]
  },
  {
   "attachments": {},
   "cell_type": "markdown",
   "metadata": {},
   "source": [
    "The image is downloaded from NAIP (National Agricultural Imagery Program)."
   ]
  },
  {
   "cell_type": "code",
   "execution_count": null,
   "metadata": {},
   "outputs": [],
   "source": [
    "naip = rasterio.open(\"./ny_lc/m_4007305_sw_18_1_20170809.tif\")"
   ]
  },
  {
   "cell_type": "code",
   "execution_count": null,
   "metadata": {},
   "outputs": [],
   "source": [
    "printRasterAttribute(naip) # four bands of (R, G, B, NIR)"
   ]
  },
  {
   "attachments": {},
   "cell_type": "markdown",
   "metadata": {},
   "source": [
    "For raster plotting, see [this tutorial using both `matplotlib` and `rasterio`](http://patrickgray.me/open-geo-tutorial/chapter_3_visualization.html) and [the `rasterio` plot documentation](https://rasterio.readthedocs.io/en/stable/topics/plotting.html) "
   ]
  },
  {
   "cell_type": "code",
   "execution_count": null,
   "metadata": {},
   "outputs": [],
   "source": [
    "rasterio.plot.show(naip)"
   ]
  },
  {
   "cell_type": "code",
   "execution_count": null,
   "metadata": {},
   "outputs": [],
   "source": [
    "fig, ax = plt.subplots(1, figsize=(12,6))\n",
    "\n",
    "rioplot.show_hist(naip, bins=50, stacked = True, \n",
    "                    alpha = 0.8, histtype='barstacked', \n",
    "                    title=\"Histogram\", lw=0.0,\n",
    "                    ax = ax)\n",
    "\n",
    "ax.legend(['nir', 'red', 'green','blue'])"
   ]
  },
  {
   "cell_type": "code",
   "execution_count": null,
   "metadata": {},
   "outputs": [],
   "source": [
    "rasterio.plot.show(naip.read(),naip.transform)\n"
   ]
  },
  {
   "cell_type": "code",
   "execution_count": null,
   "metadata": {},
   "outputs": [],
   "source": [
    "fig, ax = plt.subplots(1, figsize=(12,12))\n",
    "# For colormaps, see https://matplotlib.org/stable/tutorials/colors/colormaps.html\n",
    "# use _r to the named colormap to reverse the color sequences\n",
    "naipimg = rioplot.show((naip, 4), cmap='summer_r', adjust= True, ax=ax)\n",
    "#fig.colorbar(naipimg, ax=ax)\n",
    "#rioplot.show((naip, 4), contour=True, ax=ax)"
   ]
  },
  {
   "attachments": {},
   "cell_type": "markdown",
   "metadata": {},
   "source": [
    "As each band can be read in as numpy ndarray, we can make band-based calculations or map algebra easily."
   ]
  },
  {
   "cell_type": "code",
   "execution_count": null,
   "metadata": {},
   "outputs": [],
   "source": [
    "bandRed = naip.read(1)\n",
    "bandNIR = naip.read(4)\n",
    "ndvi = (bandNIR.astype(float)-bandRed.astype(float))/(bandNIR.astype(float)+bandRed.astype(float))\n"
   ]
  },
  {
   "cell_type": "code",
   "execution_count": null,
   "metadata": {},
   "outputs": [],
   "source": [
    "fig, axs = plt.subplots(1, 2, figsize=(16, 8)) \n",
    "\n",
    "# Show the color image\n",
    "rioplot.show(naip, ax=axs[0], title='Natural Color')\n",
    "rioplot.show(ndvi, ax=axs[1], cmap='RdYlGn', title=\"NDVI\")\n"
   ]
  }
 ],
 "metadata": {
  "kernelspec": {
   "display_name": "dev-py3",
   "language": "python",
   "name": "python3"
  },
  "language_info": {
   "codemirror_mode": {
    "name": "ipython",
    "version": 3
   },
   "file_extension": ".py",
   "mimetype": "text/x-python",
   "name": "python",
   "nbconvert_exporter": "python",
   "pygments_lexer": "ipython3",
   "version": "3.11.0"
  },
  "orig_nbformat": 4
 },
 "nbformat": 4,
 "nbformat_minor": 2
}
