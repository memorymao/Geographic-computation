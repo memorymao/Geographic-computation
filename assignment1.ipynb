{
  "nbformat": 4,
  "nbformat_minor": 0,
  "metadata": {
    "colab": {
      "provenance": []
    },
    "kernelspec": {
      "name": "python3",
      "display_name": "Python 3"
    },
    "language_info": {
      "name": "python"
    }
  },
  "cells": [
    {
      "cell_type": "markdown",
      "source": [
        "# **Assignment 1**\n",
        "###### Python basics on variables, function calls, list, loops, etc.\n",
        "\n"
      ],
      "metadata": {
        "id": "tsdAiCGD-KKY"
      }
    },
    {
      "cell_type": "markdown",
      "source": [
        "#### **Task 1 Get the Python version on your computer.**\n",
        "###### This is to verify that Python works properly on your computer."
      ],
      "metadata": {
        "id": "U6beij0jANCG"
      }
    },
    {
      "cell_type": "code",
      "execution_count": 4,
      "metadata": {
        "colab": {
          "base_uri": "https://localhost:8080/"
        },
        "id": "zwfrwZXkz1ML",
        "outputId": "39ea2232-3675-44ff-eb74-92d69fd94477"
      },
      "outputs": [
        {
          "output_type": "stream",
          "name": "stdout",
          "text": [
            "3.10.12\n"
          ]
        }
      ],
      "source": [
        "import platform\n",
        "print(platform.python_version())\n"
      ]
    },
    {
      "cell_type": "markdown",
      "source": [
        "#### **Task 2 Write Python code to do the following:**\n",
        "Do not use existing statistical functions or packages for the task. Write your own code.\n",
        "\n",
        "* Generate a list of random numbers using random module in Python\n",
        "* Alternatively, you can have a list of numbers such as [7,4,2,3,4,7,8,4,5,3,2,8,9]\n",
        "* Calculate the mean value for the list by looping through its elements\n",
        "\n",
        "$$ \\ \\mu =  \\frac{ \\sum_{i=1}^n x_i}{n} $$\n",
        "\n",
        "* Calculate the variance of the list\n",
        "\n",
        "$$ \\ Var(x) =  \\frac{ \\sum_{i=1}^n (x_i-\\mu)^2}{n} $$"
      ],
      "metadata": {
        "id": "e5g29kYf_19s"
      }
    },
    {
      "cell_type": "code",
      "source": [
        "# Some example to start\n",
        "from random import seed, sample\n",
        "seed(1009) # use a random seed for replicability\n",
        "rndList_1  = sample(range(0, 200, 1), 5) # sample method in random package can generate a list of random numbers\n",
        "print(rndList_1)"
      ],
      "metadata": {
        "colab": {
          "base_uri": "https://localhost:8080/"
        },
        "id": "4JICyzCe-oC2",
        "outputId": "896ce17b-da62-48fb-974d-b1111de09cbb"
      },
      "execution_count": 6,
      "outputs": [
        {
          "output_type": "stream",
          "name": "stdout",
          "text": [
            "[46, 3, 124, 19, 189]\n"
          ]
        }
      ]
    },
    {
      "cell_type": "code",
      "source": [
        "# A slightly different way\n",
        "import random\n",
        "random.seed(1009)\n",
        "rndList_2 = []\n",
        "for i in range(1, 6):\n",
        "    rndList_2.append(random.randint(0, 200))\n",
        "\n",
        "print(rndList_2)"
      ],
      "metadata": {
        "colab": {
          "base_uri": "https://localhost:8080/"
        },
        "id": "qBoGxHki-oqO",
        "outputId": "5b30dd77-9aec-4643-f81a-e6baf25c4a4d"
      },
      "execution_count": 9,
      "outputs": [
        {
          "output_type": "stream",
          "name": "stdout",
          "text": [
            "[46, 3, 124, 19, 189]\n"
          ]
        }
      ]
    },
    {
      "cell_type": "code",
      "source": [
        "# Calculate the mean value and the variance of the list\n",
        "import statistics\n",
        "import numpy as np\n",
        "\n",
        "def generator(amount):\n",
        "  from random import seed, sample\n",
        "  seed(1009) # use a random seed for replicability\n",
        "  return sample(range(0, 200, 1), amount)\n",
        "\n",
        "def calculateMean(rndl):\n",
        "  mean =0\n",
        "  amount =0\n",
        "  for k in rndList:\n",
        "    mean += k\n",
        "    amount += 1\n",
        "  mean /= amount\n",
        "  print(\"The mean of \", rndl, \"with \",amount,\"elements is:\", mean, \". The result compared with official function is\", mean == statistics.mean(rndl))\n",
        "  print(\"The official result from statistic package compared with numpy package is: \", np.mean(rndl)== statistics.mean(rndl))\n",
        "  return mean\n",
        "\n",
        "def calculateVar(rndList):\n",
        "  var =0\n",
        "  amount =0\n",
        "  mean =calculateMean(rndList)\n",
        "  for k in rndList:\n",
        "    var += (k-mean)**2\n",
        "    amount +=1\n",
        "  var /= amount\n",
        "\n",
        "  print(\"The variance of \", rndList, \"with \",amount,\"elements is:\", var, \". The result compared with official function is\", var == np.var(rndList))\n",
        "  print(\"The official result from statistic package compared with numpy package is: \", np.var(rndList)== statistics.variance(rndList))\n",
        "  return var\n",
        "\n",
        "\n",
        "rndList  = generator(5)\n",
        "calculateVar(rndList)\n"
      ],
      "metadata": {
        "colab": {
          "base_uri": "https://localhost:8080/"
        },
        "id": "WQvfQ9FO_Ojf",
        "outputId": "9cf8b173-d828-4125-8fa4-faa0a9bcfa72"
      },
      "execution_count": 46,
      "outputs": [
        {
          "output_type": "stream",
          "name": "stdout",
          "text": [
            "The mean of  [46, 3, 124, 19, 189] with  5 elements is: 76.2 . The result compared with official function is True\n",
            "The official result from statistic package compared with numpy package is:  True\n",
            "The variance of  [46, 3, 124, 19, 189] with  5 elements is: 4910.160000000001 . The result compared with official function is True\n",
            "The official result from statistic package compared with numpy package is:  False\n"
          ]
        },
        {
          "output_type": "execute_result",
          "data": {
            "text/plain": [
              "4910.160000000001"
            ]
          },
          "metadata": {},
          "execution_count": 46
        }
      ]
    }
  ]
}