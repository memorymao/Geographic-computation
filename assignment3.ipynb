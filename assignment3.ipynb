{
  "nbformat": 4,
  "nbformat_minor": 0,
  "metadata": {
    "colab": {
      "provenance": []
    },
    "kernelspec": {
      "name": "python3",
      "display_name": "Python 3"
    },
    "language_info": {
      "name": "python"
    }
  },
  "cells": [
    {
      "cell_type": "markdown",
      "source": [
        "### Assignment 3\n",
        "\n"
      ],
      "metadata": {
        "id": "tsdAiCGD-KKY"
      }
    },
    {
      "cell_type": "markdown",
      "source": [
        "#### **Task 1 Code refactoring**\n",
        "###### This task is a pause-reflect-and-improve code refactoring practice. You are required to restructure your code from the first two assignments and to improve its internal structure and non-functional features. Specifically, you are encouraged to:\n",
        "\n",
        "* discover, design, and create potentially reusable functions for your code.\n",
        "* rewrite some of the code to make it more concise and more efficient using techniques like comprehensions.\n",
        "  * list comprehensions\n",
        "  * dictionary comprehensions\n",
        "  * set comprehensions\n",
        "  * generator expressions\n",
        "* Add necessary comments and documentation to explain the logic and key steps.\n",
        "\n",
        "Keep in mind that do not overdo it. For example, comprehensions are just a different form of for loops. Code looks very concise with comprehensions, but could be hard to understand. Comments are also very helpful, but the main body of a program file should be code, not explanatory text. Or the code should be self-explanatory. Overall, we need to strike a balance between being (syntax) efficient and being comprehensible.\n",
        "\n",
        "For those who are still behind the schedule, this is an opportunity to catch up. For those who have finished all the assignments, this is where you can try alternative approaches and gain a higher-level perspective on programming and code structure."
      ],
      "metadata": {
        "id": "U6beij0jANCG"
      }
    },
    {
      "cell_type": "code",
      "source": [
        "import math\n",
        "[math.sqrt(k) for k in range(10**2) if k%2 ==0]==[math.sqrt(k) for k in range(0, 10**2,2)]"
      ],
      "metadata": {
        "colab": {
          "base_uri": "https://localhost:8080/"
        },
        "id": "zq3xAsOARV4N",
        "outputId": "0aaf6283-b3aa-4345-f9e5-52465142302a"
      },
      "execution_count": null,
      "outputs": [
        {
          "output_type": "execute_result",
          "data": {
            "text/plain": [
              "True"
            ]
          },
          "metadata": {},
          "execution_count": 22
        }
      ]
    },
    {
      "cell_type": "code",
      "source": [
        "data = JsonfileToData()\n",
        "countries = set([f['properties']['NAME'] for f in data])\n",
        "print(\"The list of unique county names:\", countries)\n",
        "print(\"The number of unique county names:\", len(countries))\n",
        "\n",
        "def mostCommonName(k):\n",
        "  featureList = JsonfileToData()\n",
        "  cntyList = [f['properties']['NAME'] for f in featureList]\n",
        "  cntyDict = {x:cntyList.count(x) for x in cntyList}\n",
        "  return sorted(cntyDict.items(), key=lambda item:item[1], reverse=True)[0:k]\n",
        "\n",
        "\n",
        "# main procedure: get the three most common names of countries\n",
        "cnty = mostCommonName(3)\n",
        "print('The most common names of the counties are {}'.format([x[0] for x in cnty]))\n",
        "\n",
        "\n",
        "# Derive the numbers of counties that use these three names, respectively. For each of them, list their county name and state code.\n",
        "def commonCountries(data, k):\n",
        "    cnty=mostCommonName(k)\n",
        "    items = [item for item in [[f['properties']['STATE'], f['properties']['NAME']] for f in data if f['properties']['NAME'] in [x[0] for x in cnty]]]\n",
        "    return cnty, items\n",
        "\n",
        "# main procedure: get the three most common names of countries with state code\n",
        "cnty, items = commonCountries(data,3)\n",
        "print('The numbers of counties that use these most common names are {}'.format(cnty))\n",
        "print(f'the top 3 most common counties along with state code.', '\\n', '%s  %s' % (\"state\",\"countries\"))\n",
        "print('\\n'.join('{}     {}'.format(item[0], item[1]) for item in items))"
      ],
      "metadata": {
        "id": "fZL5FHE6Py4Y"
      },
      "execution_count": null,
      "outputs": []
    },
    {
      "cell_type": "markdown",
      "source": [
        "#### **Task 2 OMNY's 7-day cap**\n",
        "According to MTA, OMNY has the fare capping that is equivalent to the 7-day pass.\n",
        "\n",
        ">Simply tap and go with the same contactless credit or debit card, smart device, or OMNY card. Once you’ve hit 12 paid trips in a seven-day period, the rest of your rides for that week will automatically be free.\n",
        "\n",
        "We will use simulated data to develop and test an algorithm that determines whether to charge a user when s/he taps an OMNY terminal."
      ],
      "metadata": {
        "id": "e5g29kYf_19s"
      }
    },
    {
      "cell_type": "code",
      "source": [
        "# simulate the ID card\n",
        "import random\n",
        "import string\n",
        "\n",
        "def generatePayee(k):\n",
        "    n= k+200\n",
        "    s = string.ascii_lowercase + string.digits\n",
        "    payee_ids = [None]*n\n",
        "\n",
        "# set the random seed, so results are replicable\n",
        "    random.seed( 1090 )\n",
        "\n",
        "    for i in range(n):\n",
        "          payee_ids[i] = ''.join(random.choice(s) for k in range(10))\n",
        "\n",
        "# Using list comprehensions would be much more concise.\n",
        "# But this is little bit hard to understand as it has two layers of list comprehensions\n",
        "# payee_ids = [''.join(random.choice(s) for i in range(10)) for _ in range(n)]\n",
        "\n",
        "# Exclude any possible duplicates (extremely unlikely, but possible)\n",
        "    payee_ids = list(set(payee_ids))[0:k]\n",
        "    return payee_ids\n",
        "\n",
        "\n",
        "# main procedure\n",
        "print(generatePayee(10))"
      ],
      "metadata": {
        "colab": {
          "base_uri": "https://localhost:8080/"
        },
        "id": "Rv_hBHnQTEZA",
        "outputId": "7ad29bba-cc1e-48ce-b436-1fdb3795779a"
      },
      "execution_count": 1,
      "outputs": [
        {
          "output_type": "stream",
          "name": "stdout",
          "text": [
            "['ix5q58h9v4', 'skrh7it8wd', 'ijt83gq124', '81zxbfn9mb', 'n4oe45o8fe', 'bcxd6zdqr7', '6650frwndu', '9tzl3sw0k3', 'imlcm3vzp8', 'y0hfrcrplu']\n"
          ]
        }
      ]
    },
    {
      "cell_type": "code",
      "source": [
        "from datetime import datetime, timedelta\n",
        "\n",
        "def generatePayment(tDate, dd): # tDate: current date, dd: number of days\n",
        "    payee_ids = generatePayee(1000)\n",
        "    nn = len(payee_ids)*dd*2 # on average, each payee makes two trips.\n",
        "\n",
        "# the time during the day does not really matter for OMNY rules. We just set it to a random number between 5 to 23.\n",
        "    payTime = [tDate - timedelta(days = random.uniform(0, dd), \\\n",
        "                             hours = random.choice(range(5,24)), \\\n",
        "                             minutes = random.choice(range(0, 60)), \\\n",
        "                             seconds=random.choice(range(0, 60))) for _ in range(nn)]\n",
        "\n",
        "    payees = random.choices(payee_ids, weights=[abs(random.normalvariate(0,1)) for _ in range(len(payee_ids))], k=nn)\n",
        "\n",
        "    simData = [list(x) for x in zip(payees, payTime)]\n",
        "# Sort according to the time, from early to late.\n",
        "    simSData = sorted(simData, key= lambda z: z[1],  reverse = True)\n",
        "    return simSData\n",
        "\n",
        "# Main procedure:  Print the top 10 rows\n",
        "tDate = datetime(2024, 2, 20)\n",
        "simSData = generatePayment(tDate, 7)\n",
        "for k in range(10):\n",
        "    print()\n",
        "    print(\"Index: {}, ID: {}, Time: {}\".format(k, simSData[k][0], \"\" + simSData[k][1].strftime(\"%Y/%m/%d %I:%M%p, %A\")))"
      ],
      "metadata": {
        "id": "wWukosh9USUi"
      },
      "execution_count": null,
      "outputs": []
    },
    {
      "cell_type": "code",
      "source": [
        "def StartCounting(payments):\n",
        "    simData = sorted(payments, key= lambda z: z[1])\n",
        "    startdict ={}\n",
        "    for payment in simData:\n",
        "       if payment[0] not in startdict:\n",
        "          startdict[payment[0]]=payment[1]\n",
        "    return startdict\n",
        "\n",
        "print(StartCounting(generatePayment(tDate, 7)))"
      ],
      "metadata": {
        "colab": {
          "base_uri": "https://localhost:8080/"
        },
        "id": "_XKG0-rLe56d",
        "outputId": "f3008b54-8531-4af6-eb45-10280e827dbe"
      },
      "execution_count": 20,
      "outputs": [
        {
          "output_type": "stream",
          "name": "stdout",
          "text": [
            "{'skrh7it8wd': datetime.datetime(2024, 2, 12, 11, 17, 28, 202964), 'ijt83gq124': datetime.datetime(2024, 2, 12, 11, 57, 50, 322660), 'n4oe45o8fe': datetime.datetime(2024, 2, 12, 12, 54, 18, 165136), 'ix5q58h9v4': datetime.datetime(2024, 2, 12, 18, 26, 39, 194054), '81zxbfn9mb': datetime.datetime(2024, 2, 13, 22, 24, 23, 638298)}\n"
          ]
        }
      ]
    },
    {
      "cell_type": "markdown",
      "source": [
        "So, we have the simulated data of a list of list, which contains the IDs of the payee devices and the corresponding times when they are used to pay MTA fares. Now, you can write code to determine if it should be charged a fare or not using the OMNY 7-day capping rule. The code should produces a float (fare) or a boolean (free or not) for each time or each \"row\" in the list."
      ],
      "metadata": {
        "id": "Bpmx6VAsVkWf"
      }
    },
    {
      "cell_type": "code",
      "source": [
        "# algorithm 1 : track the payment history for the target customer\n",
        "def capping(current, test, fare):\n",
        "  simSData = generatePayment(current, 18)\n",
        "  startDate = StartCounting(simSData)\n",
        "  restartMark = {}\n",
        "  trips = 0\n",
        "  print(\"Tracking payment history:\")\n",
        "  for payment in simSData:\n",
        "      if (payment[0] !=test[0]):\n",
        "        continue\n",
        "      cycles = int((payment[1] - startDate[test[0]]).total_seconds()/ (7*24*3600))\n",
        "      if test[0] not in restartMark:\n",
        "         restartMark[test[0]] = cycles\n",
        "      if cycles < restartMark[test[0]]:\n",
        "         print(\"This 7-day cycle starts from\", (startDate[test[0]]+ timedelta(seconds=7*24*3600*restartMark[test[0]])).strftime(\"%Y/%m/%d %I:%M%p, %A\") )\n",
        "         break\n",
        "\n",
        "      trips +=1\n",
        "      print(\"Index: {}, ID: {}, Time: {}\".format(trips, payment[0], \"\" + payment[1].strftime(\"%Y/%m/%d %I:%M%p, %A\")))\n",
        "      if trips == 12:\n",
        "         print(\"This 7-day cycle starts from\", (startDate[test[0]]+ timedelta(seconds=7*24*3600*restartMark[test[0]])).strftime(\"%Y/%m/%d %I:%M%p, %A\") )\n",
        "         return \"Free\" # meet the OMNY 7-day capping rule\n",
        "  return '$'+str(fare) # not enough data, return default value as not meeting OMNY 7-day capping rule\n",
        "\n",
        "# main procedure\n",
        "current = datetime(2024, 2, 20)\n",
        "fare = 2.29\n",
        "test = generatePayment(current, 1)[4]   # generate the target payment to be judged using the OMNY 7-day capping rule\n",
        "print(\"One customer comes in :\", \"ID: {}, Time: {}\".format(test[0], \"\" + test[1].strftime(\"%Y/%m/%d %I:%M%p, %A\")))\n",
        "print(\"Final fare based on the OMNY 7-day capping rule is:\", capping(current, test, fare))"
      ],
      "metadata": {
        "colab": {
          "base_uri": "https://localhost:8080/"
        },
        "id": "Mo65MUFaVpVJ",
        "outputId": "1a1cb019-8589-4d63-b55d-ee01963b5ded"
      },
      "execution_count": 56,
      "outputs": [
        {
          "output_type": "stream",
          "name": "stdout",
          "text": [
            "One customer comes in : ID: rpn5bo2xg2, Time: 2024/02/19 05:10PM, Monday\n",
            "Tracking payment history:\n",
            "Index: 1, ID: rpn5bo2xg2, Time: 2024/02/18 08:59PM, Sunday\n",
            "This 7-day cycle starts from 2024/02/17 02:25AM, Saturday\n",
            "Final fare based on the OMNY 7-day capping rule is: $2.29\n"
          ]
        }
      ]
    },
    {
      "cell_type": "code",
      "source": [
        "def simulateCapping(current, k):\n",
        "    fare = 2.29\n",
        "    test = generatePayment(current, 1)\n",
        "    for i in range(k):\n",
        "        print(\"Final fare for customer ID: {}, Time: {}, Fare: {}\".format(test[i][0], \"\" + test[i][1].strftime(\"%Y/%m/%d %I:%M%p, %A\"),capping(current, test[i], fare)))\n",
        "\n",
        "# main procedure\n",
        "current = datetime(2024, 2, 25)\n",
        "simulateCapping(current, 10)\n"
      ],
      "metadata": {
        "colab": {
          "base_uri": "https://localhost:8080/"
        },
        "id": "BohGa2QJ6k8E",
        "outputId": "44519c9c-18ac-4341-89e1-fb3985246219"
      },
      "execution_count": 57,
      "outputs": [
        {
          "output_type": "stream",
          "name": "stdout",
          "text": [
            "Tracking payment history:\n",
            "Index: 1, ID: l7lmy3e19q, Time: 2024/02/24 03:13AM, Saturday\n",
            "Index: 2, ID: l7lmy3e19q, Time: 2024/02/23 07:39PM, Friday\n",
            "Index: 3, ID: l7lmy3e19q, Time: 2024/02/23 01:23PM, Friday\n",
            "Index: 4, ID: l7lmy3e19q, Time: 2024/02/23 03:07AM, Friday\n",
            "Index: 5, ID: l7lmy3e19q, Time: 2024/02/20 06:56PM, Tuesday\n",
            "Index: 6, ID: l7lmy3e19q, Time: 2024/02/20 02:26PM, Tuesday\n",
            "Index: 7, ID: l7lmy3e19q, Time: 2024/02/20 11:29AM, Tuesday\n",
            "Index: 8, ID: l7lmy3e19q, Time: 2024/02/20 11:25AM, Tuesday\n",
            "Index: 9, ID: l7lmy3e19q, Time: 2024/02/20 11:14AM, Tuesday\n",
            "This 7-day cycle starts from 2024/02/20 08:33AM, Tuesday\n",
            "Final fare for customer ID: l7lmy3e19q, Time: 2024/02/24 06:02PM, Saturday, Fare: $2.29\n",
            "Tracking payment history:\n",
            "Index: 1, ID: z7jckiokkq, Time: 2024/02/24 03:35AM, Saturday\n",
            "Index: 2, ID: z7jckiokkq, Time: 2024/02/24 01:42AM, Saturday\n",
            "Index: 3, ID: z7jckiokkq, Time: 2024/02/23 02:58AM, Friday\n",
            "Index: 4, ID: z7jckiokkq, Time: 2024/02/22 02:09PM, Thursday\n",
            "Index: 5, ID: z7jckiokkq, Time: 2024/02/22 02:08PM, Thursday\n",
            "Index: 6, ID: z7jckiokkq, Time: 2024/02/20 07:44PM, Tuesday\n",
            "Index: 7, ID: z7jckiokkq, Time: 2024/02/20 06:56PM, Tuesday\n",
            "This 7-day cycle starts from 2024/02/20 10:07AM, Tuesday\n",
            "Final fare for customer ID: z7jckiokkq, Time: 2024/02/24 05:59PM, Saturday, Fare: $2.29\n",
            "Tracking payment history:\n",
            "Index: 1, ID: k83i63fn6n, Time: 2024/02/24 12:01AM, Saturday\n",
            "Index: 2, ID: k83i63fn6n, Time: 2024/02/22 12:27AM, Thursday\n",
            "This 7-day cycle starts from 2024/02/21 05:24PM, Wednesday\n",
            "Final fare for customer ID: k83i63fn6n, Time: 2024/02/24 05:55PM, Saturday, Fare: $2.29\n",
            "Tracking payment history:\n",
            "Index: 1, ID: wzw0wzme20, Time: 2024/02/24 11:23AM, Saturday\n",
            "Index: 2, ID: wzw0wzme20, Time: 2024/02/23 07:36PM, Friday\n",
            "Index: 3, ID: wzw0wzme20, Time: 2024/02/23 04:26PM, Friday\n",
            "Index: 4, ID: wzw0wzme20, Time: 2024/02/23 02:00PM, Friday\n",
            "Index: 5, ID: wzw0wzme20, Time: 2024/02/23 10:31AM, Friday\n",
            "Index: 6, ID: wzw0wzme20, Time: 2024/02/22 11:17PM, Thursday\n",
            "Index: 7, ID: wzw0wzme20, Time: 2024/02/22 06:59AM, Thursday\n",
            "Index: 8, ID: wzw0wzme20, Time: 2024/02/22 02:26AM, Thursday\n",
            "Index: 9, ID: wzw0wzme20, Time: 2024/02/22 02:22AM, Thursday\n",
            "Index: 10, ID: wzw0wzme20, Time: 2024/02/22 12:32AM, Thursday\n",
            "Index: 11, ID: wzw0wzme20, Time: 2024/02/21 08:43PM, Wednesday\n",
            "Index: 12, ID: wzw0wzme20, Time: 2024/02/21 07:15PM, Wednesday\n",
            "This 7-day cycle starts from 2024/02/20 07:15AM, Tuesday\n",
            "Final fare for customer ID: wzw0wzme20, Time: 2024/02/24 05:23PM, Saturday, Fare: Free\n",
            "Tracking payment history:\n",
            "Index: 1, ID: rpn5bo2xg2, Time: 2024/02/23 08:59PM, Friday\n",
            "This 7-day cycle starts from 2024/02/22 02:25AM, Thursday\n",
            "Final fare for customer ID: rpn5bo2xg2, Time: 2024/02/24 05:10PM, Saturday, Fare: $2.29\n",
            "Tracking payment history:\n",
            "Index: 1, ID: tfm19k0k76, Time: 2024/02/24 08:09AM, Saturday\n",
            "Index: 2, ID: tfm19k0k76, Time: 2024/02/23 01:46PM, Friday\n",
            "Index: 3, ID: tfm19k0k76, Time: 2024/02/23 02:56AM, Friday\n",
            "Index: 4, ID: tfm19k0k76, Time: 2024/02/22 11:52AM, Thursday\n",
            "Index: 5, ID: tfm19k0k76, Time: 2024/02/22 07:49AM, Thursday\n",
            "Index: 6, ID: tfm19k0k76, Time: 2024/02/22 07:07AM, Thursday\n",
            "Index: 7, ID: tfm19k0k76, Time: 2024/02/22 06:18AM, Thursday\n",
            "Index: 8, ID: tfm19k0k76, Time: 2024/02/21 10:59PM, Wednesday\n",
            "Index: 9, ID: tfm19k0k76, Time: 2024/02/21 03:04PM, Wednesday\n",
            "This 7-day cycle starts from 2024/02/21 12:07PM, Wednesday\n",
            "Final fare for customer ID: tfm19k0k76, Time: 2024/02/24 04:56PM, Saturday, Fare: $2.29\n",
            "Tracking payment history:\n",
            "Index: 1, ID: xse4wp4zop, Time: 2024/02/23 04:01PM, Friday\n",
            "Index: 2, ID: xse4wp4zop, Time: 2024/02/23 12:35PM, Friday\n",
            "Index: 3, ID: xse4wp4zop, Time: 2024/02/22 06:32PM, Thursday\n",
            "Index: 4, ID: xse4wp4zop, Time: 2024/02/22 02:02PM, Thursday\n",
            "Index: 5, ID: xse4wp4zop, Time: 2024/02/22 07:29AM, Thursday\n",
            "Index: 6, ID: xse4wp4zop, Time: 2024/02/21 02:42AM, Wednesday\n",
            "Index: 7, ID: xse4wp4zop, Time: 2024/02/21 01:59AM, Wednesday\n",
            "Index: 8, ID: xse4wp4zop, Time: 2024/02/21 01:40AM, Wednesday\n",
            "This 7-day cycle starts from 2024/02/20 07:55PM, Tuesday\n",
            "Final fare for customer ID: xse4wp4zop, Time: 2024/02/24 04:23PM, Saturday, Fare: $2.29\n",
            "Tracking payment history:\n",
            "Index: 1, ID: 11vzbyeyyz, Time: 2024/02/23 04:41PM, Friday\n",
            "Index: 2, ID: 11vzbyeyyz, Time: 2024/02/23 04:35AM, Friday\n",
            "Index: 3, ID: 11vzbyeyyz, Time: 2024/02/21 12:20PM, Wednesday\n",
            "Index: 4, ID: 11vzbyeyyz, Time: 2024/02/21 02:24AM, Wednesday\n",
            "This 7-day cycle starts from 2024/02/20 04:59PM, Tuesday\n",
            "Final fare for customer ID: 11vzbyeyyz, Time: 2024/02/24 04:22PM, Saturday, Fare: $2.29\n",
            "Tracking payment history:\n",
            "Index: 1, ID: wzp141vqf2, Time: 2024/02/23 09:44PM, Friday\n",
            "Index: 2, ID: wzp141vqf2, Time: 2024/02/23 10:49AM, Friday\n",
            "This 7-day cycle starts from 2024/02/20 01:46PM, Tuesday\n",
            "Final fare for customer ID: wzp141vqf2, Time: 2024/02/24 04:19PM, Saturday, Fare: $2.29\n",
            "Tracking payment history:\n",
            "Index: 1, ID: daxuq77voe, Time: 2024/02/23 11:24PM, Friday\n",
            "Index: 2, ID: daxuq77voe, Time: 2024/02/22 04:47PM, Thursday\n",
            "Index: 3, ID: daxuq77voe, Time: 2024/02/21 04:20AM, Wednesday\n",
            "Index: 4, ID: daxuq77voe, Time: 2024/02/20 10:04PM, Tuesday\n",
            "Index: 5, ID: daxuq77voe, Time: 2024/02/20 03:45PM, Tuesday\n",
            "This 7-day cycle starts from 2024/02/20 11:53AM, Tuesday\n",
            "Final fare for customer ID: daxuq77voe, Time: 2024/02/24 04:17PM, Saturday, Fare: $2.29\n"
          ]
        }
      ]
    }
  ]
}