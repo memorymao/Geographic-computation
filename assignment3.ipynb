{
  "nbformat": 4,
  "nbformat_minor": 0,
  "metadata": {
    "colab": {
      "provenance": []
    },
    "kernelspec": {
      "name": "python3",
      "display_name": "Python 3"
    },
    "language_info": {
      "name": "python"
    }
  },
  "cells": [
    {
      "cell_type": "markdown",
      "source": [
        "### Assignment 3\n",
        "\n"
      ],
      "metadata": {
        "id": "tsdAiCGD-KKY"
      }
    },
    {
      "cell_type": "markdown",
      "source": [
        "#### **Task 1 Code refactoring**\n",
        "###### This task is a pause-reflect-and-improve code refactoring practice. You are required to restructure your code from the first two assignments and to improve its internal structure and non-functional features. Specifically, you are encouraged to:\n",
        "\n",
        "* discover, design, and create potentially reusable functions for your code.\n",
        "* rewrite some of the code to make it more concise and more efficient using techniques like comprehensions.\n",
        "  * list comprehensions\n",
        "  * dictionary comprehensions\n",
        "  * set comprehensions\n",
        "  * generator expressions\n",
        "* Add necessary comments and documentation to explain the logic and key steps.\n",
        "\n",
        "Keep in mind that do not overdo it. For example, comprehensions are just a different form of for loops. Code looks very concise with comprehensions, but could be hard to understand. Comments are also very helpful, but the main body of a program file should be code, not explanatory text. Or the code should be self-explanatory. Overall, we need to strike a balance between being (syntax) efficient and being comprehensible.\n",
        "\n",
        "For those who are still behind the schedule, this is an opportunity to catch up. For those who have finished all the assignments, this is where you can try alternative approaches and gain a higher-level perspective on programming and code structure."
      ],
      "metadata": {
        "id": "U6beij0jANCG"
      }
    },
    {
      "cell_type": "code",
      "source": [
        "import math\n",
        "[math.sqrt(k) for k in range(10**2) if k%2 ==0]==[math.sqrt(k) for k in range(0, 10**2,2)]"
      ],
      "metadata": {
        "colab": {
          "base_uri": "https://localhost:8080/"
        },
        "id": "zq3xAsOARV4N",
        "outputId": "0aaf6283-b3aa-4345-f9e5-52465142302a"
      },
      "execution_count": null,
      "outputs": [
        {
          "output_type": "execute_result",
          "data": {
            "text/plain": [
              "True"
            ]
          },
          "metadata": {},
          "execution_count": 22
        }
      ]
    },
    {
      "cell_type": "code",
      "source": [
        "data = JsonfileToData()\n",
        "countries = set([f['properties']['NAME'] for f in data])\n",
        "print(\"The list of unique county names:\", countries)\n",
        "print(\"The number of unique county names:\", len(countries))\n",
        "\n",
        "def mostCommonName(k):\n",
        "  featureList = JsonfileToData()\n",
        "  cntyList = [f['properties']['NAME'] for f in featureList]\n",
        "  cntyDict = {x:cntyList.count(x) for x in cntyList}\n",
        "  return sorted(cntyDict.items(), key=lambda item:item[1], reverse=True)[0:k]\n",
        "\n",
        "\n",
        "# main procedure: get the three most common names of countries\n",
        "cnty = mostCommonName(3)\n",
        "print('The most common names of the counties are {}'.format([x[0] for x in cnty]))\n",
        "\n",
        "\n",
        "# Derive the numbers of counties that use these three names, respectively. For each of them, list their county name and state code.\n",
        "def commonCountries(data, k):\n",
        "    cnty=mostCommonName(k)\n",
        "    items = [item for item in [[f['properties']['STATE'], f['properties']['NAME']] for f in data if f['properties']['NAME'] in [x[0] for x in cnty]]]\n",
        "    return cnty, items\n",
        "\n",
        "# main procedure: get the three most common names of countries with state code\n",
        "cnty, items = commonCountries(data,3)\n",
        "print('The numbers of counties that use these most common names are {}'.format(cnty))\n",
        "print(f'the top 3 most common counties along with state code.', '\\n', '%s  %s' % (\"state\",\"countries\"))\n",
        "print('\\n'.join('{}     {}'.format(item[0], item[1]) for item in items))"
      ],
      "metadata": {
        "id": "fZL5FHE6Py4Y"
      },
      "execution_count": null,
      "outputs": []
    },
    {
      "cell_type": "markdown",
      "source": [
        "#### **Task 2 OMNY's 7-day cap**\n",
        "According to MTA, OMNY has the fare capping that is equivalent to the 7-day pass.\n",
        "\n",
        ">Simply tap and go with the same contactless credit or debit card, smart device, or OMNY card. Once you’ve hit 12 paid trips in a seven-day period, the rest of your rides for that week will automatically be free.\n",
        "\n",
        "We will use simulated data to develop and test an algorithm that determines whether to charge a user when s/he taps an OMNY terminal."
      ],
      "metadata": {
        "id": "e5g29kYf_19s"
      }
    },
    {
      "cell_type": "code",
      "source": [
        "# simulate the ID card\n",
        "import random\n",
        "import string\n",
        "\n",
        "def generatePayee(k):\n",
        "    n= k+200\n",
        "    s = string.ascii_lowercase + string.digits\n",
        "    payee_ids = [None]*n\n",
        "\n",
        "# set the random seed, so results are replicable\n",
        "    random.seed( 1090 )\n",
        "\n",
        "    for i in range(n):\n",
        "          payee_ids[i] = ''.join(random.choice(s) for k in range(10))\n",
        "\n",
        "# Using list comprehensions would be much more concise.\n",
        "# But this is little bit hard to understand as it has two layers of list comprehensions\n",
        "# payee_ids = [''.join(random.choice(s) for i in range(10)) for _ in range(n)]\n",
        "\n",
        "# Exclude any possible duplicates (extremely unlikely, but possible)\n",
        "    payee_ids = list(set(payee_ids))[0:k]\n",
        "    return payee_ids\n",
        "\n",
        "\n",
        "# main procedure\n",
        "print(generatePayee(10))"
      ],
      "metadata": {
        "colab": {
          "base_uri": "https://localhost:8080/"
        },
        "id": "Rv_hBHnQTEZA",
        "outputId": "0fbd0838-df95-434e-f79d-dd331e67d0d1"
      },
      "execution_count": null,
      "outputs": [
        {
          "output_type": "stream",
          "name": "stdout",
          "text": [
            "['290hc8h8qq', 'tth387umwk', 'hqjeeiw3xa', '9w2vjl0jxm', 'qga8s1n1me', '8zoywa5q59', 'kuiwndffyc', 'gwgft51fiw', 'h8z3gq517q', '39q5e0viad']\n"
          ]
        }
      ]
    },
    {
      "cell_type": "code",
      "source": [
        "from datetime import datetime, timedelta\n",
        "\n",
        "def generatePayment(tDate, dd): # tDate: current date, dd: number of days\n",
        "    payee_ids = generatePayee(1000)\n",
        "    nn = len(payee_ids)*dd*2 # on average, each payee makes two trips.\n",
        "\n",
        "# the time during the day does not really matter for OMNY rules. We just set it to a random number between 5 to 23.\n",
        "    payTime = [tDate - timedelta(days = random.uniform(0, dd), \\\n",
        "                             hours = random.choice(range(5,24)), \\\n",
        "                             minutes = random.choice(range(0, 60)), \\\n",
        "                             seconds=random.choice(range(0, 60))) for _ in range(nn)]\n",
        "\n",
        "    payees = random.choices(payee_ids, weights=[abs(random.normalvariate(0,1)) for _ in range(len(payee_ids))], k=nn)\n",
        "\n",
        "    simData = [list(x) for x in zip(payees, payTime)]\n",
        "# Sort according to the time, from early to late.\n",
        "    simSData = sorted(simData, key= lambda z: z[1],  reverse = True)\n",
        "    return simSData\n",
        "\n",
        "# Main procedure:  Print the top 10 rows\n",
        "tDate = datetime(2023, 11, 25)\n",
        "simSData = generatePayment(tDate, 7)\n",
        "for k in range(10):\n",
        "    print()\n",
        "    print(\"Index: {}, ID: {}, Time: {}\".format(k, simSData[k][0], \"\" + simSData[k][1].strftime(\"%Y/%m/%d %I:%M%p, %A\")))"
      ],
      "metadata": {
        "colab": {
          "base_uri": "https://localhost:8080/"
        },
        "id": "wWukosh9USUi",
        "outputId": "dbcd375c-17a3-4b4b-b919-30f9cc661880"
      },
      "execution_count": null,
      "outputs": [
        {
          "output_type": "stream",
          "name": "stdout",
          "text": [
            "\n",
            "Index: 0, ID: lz8yj49fol, Time: 2023/11/24 06:23PM, Friday\n",
            "\n",
            "Index: 1, ID: f4sypdxy9k, Time: 2023/11/24 06:07PM, Friday\n",
            "\n",
            "Index: 2, ID: 4e8pxmzkqh, Time: 2023/11/24 05:37PM, Friday\n",
            "\n",
            "Index: 3, ID: sxzqhzk3af, Time: 2023/11/24 05:27PM, Friday\n",
            "\n",
            "Index: 4, ID: bnwc0j07xg, Time: 2023/11/24 05:26PM, Friday\n",
            "\n",
            "Index: 5, ID: yx6un9l950, Time: 2023/11/24 05:13PM, Friday\n",
            "\n",
            "Index: 6, ID: 7pyjzwfjam, Time: 2023/11/24 04:26PM, Friday\n",
            "\n",
            "Index: 7, ID: egkylqw3jp, Time: 2023/11/24 04:16PM, Friday\n",
            "\n",
            "Index: 8, ID: 9me4w0n6r1, Time: 2023/11/24 04:14PM, Friday\n",
            "\n",
            "Index: 9, ID: cmkboqyfvy, Time: 2023/11/24 04:12PM, Friday\n"
          ]
        }
      ]
    },
    {
      "cell_type": "markdown",
      "source": [
        "So, we have the simulated data of a list of list, which contains the IDs of the payee devices and the corresponding times when they are used to pay MTA fares. Now, you can write code to determine if it should be charged a fare or not using the OMNY 7-day capping rule. The code should produces a float (fare) or a boolean (free or not) for each time or each \"row\" in the list."
      ],
      "metadata": {
        "id": "Bpmx6VAsVkWf"
      }
    },
    {
      "cell_type": "code",
      "source": [
        "# algorithm 1 : track the payment history for the target customer\n",
        "def capping(current, test, fare):\n",
        "  simSData = generatePayment(current, 8)\n",
        "  trips = 0\n",
        "  print(\"Tracking payment history:\")\n",
        "  for payment in simSData:\n",
        "      if (test[1] - payment[1]).total_seconds() >= 7*24*3600:  # miss OMNY 7-day capping rule\n",
        "          return '$'+str(fare)\n",
        "      if (payment[0]==test[0]):\n",
        "          trips +=1\n",
        "          print(\"Index: {}, ID: {}, Time: {}\".format(trips, payment[0], \"\" + payment[1].strftime(\"%Y/%m/%d %I:%M%p, %A\")))\n",
        "      if trips == 12:\n",
        "          return \"Free\" # meet the OMNY 7-day capping rule\n",
        "  return False # not enough data, return default value as not meeting OMNY 7-day capping rule\n",
        "\n",
        "# main procedure\n",
        "current = datetime(2024, 2, 25)\n",
        "fare = 2.29\n",
        "test = generatePayment(current, 1)[0]   # generate the target payment to be judged using the OMNY 7-day capping rule\n",
        "print(\"One customer comes in :\", \"ID: {}, Time: {}\".format(test[0], \"\" + test[1].strftime(\"%Y/%m/%d %I:%M%p, %A\")))\n",
        "print(\"Final fare based on the OMNY 7-day capping rule is:\", capping(current, test, fare))"
      ],
      "metadata": {
        "colab": {
          "base_uri": "https://localhost:8080/"
        },
        "id": "Mo65MUFaVpVJ",
        "outputId": "00f7fadc-e4cd-441b-e121-782c4a1b542b"
      },
      "execution_count": null,
      "outputs": [
        {
          "output_type": "stream",
          "name": "stdout",
          "text": [
            "One customer comes in : ID: 9amf7up454, Time: 2024/02/24 06:02PM, Saturday\n",
            "Tracking payment history:\n",
            "Index: 1, ID: 9amf7up454, Time: 2024/02/20 04:34AM, Tuesday\n",
            "Index: 2, ID: 9amf7up454, Time: 2024/02/18 01:23AM, Sunday\n",
            "Index: 3, ID: 9amf7up454, Time: 2024/02/18 01:15AM, Sunday\n",
            "Final fare based on the OMNY 7-day capping rule is: $2.29\n"
          ]
        }
      ]
    },
    {
      "cell_type": "code",
      "source": [
        "# algorithm 2 :extract the info of the target customer from the payment history\n",
        "def capping2(current, test, fare):\n",
        "  simSData = generatePayment(current, 8)\n",
        "  target = [payment for payment in simSData if ((payment[0]==test[0]) and ((test[1] - payment[1]).total_seconds() < 7*24*3600))]\n",
        "  if len(target) >= 12:\n",
        "    return \"Free\"  # meet the OMNY 7-day capping rule\n",
        "  print(\"Tracking payment history:\")\n",
        "  print('\\n'.join(\"ID: {}, Time: {}\".format(payment[0], payment[1].strftime(\"%Y/%m/%d %I:%M%p, %A\")) for payment in target))\n",
        "  return '$'+str(fare) # not enough data, return default value as not meeting OMNY 7-day capping rule\n",
        "\n",
        "# main procedure\n",
        "current = datetime(2024, 2, 25)\n",
        "fare = 2.29\n",
        "test = generatePayment(current, 1)[0]   # generate the target payment to be judged using the OMNY 7-day capping rule\n",
        "print(\"One customer comes in :\", \"ID: {}, Time: {}\".format(test[0], \"\" + test[1].strftime(\"%Y/%m/%d %I:%M%p, %A\")))\n",
        "print(\"Final fare based on the OMNY 7-day capping rule is:\", capping2(current, test, fare))"
      ],
      "metadata": {
        "colab": {
          "base_uri": "https://localhost:8080/"
        },
        "id": "CSaq2TRhbXKM",
        "outputId": "6d85307f-4be3-43dc-e057-fcabb770fefc"
      },
      "execution_count": null,
      "outputs": [
        {
          "output_type": "stream",
          "name": "stdout",
          "text": [
            "One customer comes in : ID: 9amf7up454, Time: 2024/02/24 06:02PM, Saturday\n",
            "Tracking payment history:\n",
            "ID: 9amf7up454, Time: 2024/02/20 04:34AM, Tuesday\n",
            "ID: 9amf7up454, Time: 2024/02/18 01:23AM, Sunday\n",
            "ID: 9amf7up454, Time: 2024/02/18 01:15AM, Sunday\n",
            "Final fare based on the OMNY 7-day capping rule is: $2.29\n"
          ]
        }
      ]
    },
    {
      "cell_type": "code",
      "source": [
        "def simulateCapping(current, k):\n",
        "    fare = 2.29\n",
        "    test = generatePayment(current, 1)\n",
        "    for i in range(k):\n",
        "        print(\"Final fare for customer ID: {}, Time: {}, Fare: {}\".format(test[i][0], \"\" + test[i][1].strftime(\"%Y/%m/%d %I:%M%p, %A\"),capping(current, test[i], fare)))\n",
        "\n",
        "# main procedure\n",
        "current = datetime(2024, 2, 25)\n",
        "simulateCapping(current, 10)\n"
      ],
      "metadata": {
        "colab": {
          "base_uri": "https://localhost:8080/"
        },
        "id": "BohGa2QJ6k8E",
        "outputId": "7f9429b7-8d0f-45fc-8d9e-1273f36f6520"
      },
      "execution_count": null,
      "outputs": [
        {
          "output_type": "stream",
          "name": "stdout",
          "text": [
            "Tracking payment history:\n",
            "Index: 1, ID: 9amf7up454, Time: 2024/02/20 04:34AM, Tuesday\n",
            "Index: 2, ID: 9amf7up454, Time: 2024/02/18 01:23AM, Sunday\n",
            "Index: 3, ID: 9amf7up454, Time: 2024/02/18 01:15AM, Sunday\n",
            "Final fare for customer ID: 9amf7up454, Time: 2024/02/24 06:02PM, Saturday, Fare: $2.29\n",
            "Tracking payment history:\n",
            "Index: 1, ID: hn3wipkv2u, Time: 2024/02/23 09:47AM, Friday\n",
            "Index: 2, ID: hn3wipkv2u, Time: 2024/02/20 09:42PM, Tuesday\n",
            "Index: 3, ID: hn3wipkv2u, Time: 2024/02/18 05:27PM, Sunday\n",
            "Index: 4, ID: hn3wipkv2u, Time: 2024/02/17 10:03PM, Saturday\n",
            "Final fare for customer ID: hn3wipkv2u, Time: 2024/02/24 05:59PM, Saturday, Fare: $2.29\n",
            "Tracking payment history:\n",
            "Index: 1, ID: 0hngwmrc4o, Time: 2024/02/24 03:14AM, Saturday\n",
            "Index: 2, ID: 0hngwmrc4o, Time: 2024/02/23 02:33AM, Friday\n",
            "Index: 3, ID: 0hngwmrc4o, Time: 2024/02/22 03:55PM, Thursday\n",
            "Index: 4, ID: 0hngwmrc4o, Time: 2024/02/22 12:26AM, Thursday\n",
            "Index: 5, ID: 0hngwmrc4o, Time: 2024/02/21 09:41AM, Wednesday\n",
            "Index: 6, ID: 0hngwmrc4o, Time: 2024/02/21 06:59AM, Wednesday\n",
            "Index: 7, ID: 0hngwmrc4o, Time: 2024/02/20 02:40PM, Tuesday\n",
            "Index: 8, ID: 0hngwmrc4o, Time: 2024/02/20 01:25PM, Tuesday\n",
            "Index: 9, ID: 0hngwmrc4o, Time: 2024/02/20 08:21AM, Tuesday\n",
            "Index: 10, ID: 0hngwmrc4o, Time: 2024/02/20 02:35AM, Tuesday\n",
            "Index: 11, ID: 0hngwmrc4o, Time: 2024/02/19 10:45PM, Monday\n",
            "Final fare for customer ID: 0hngwmrc4o, Time: 2024/02/24 05:55PM, Saturday, Fare: $2.29\n",
            "Tracking payment history:\n",
            "Index: 1, ID: u0usd1jtoe, Time: 2024/02/22 10:40AM, Thursday\n",
            "Index: 2, ID: u0usd1jtoe, Time: 2024/02/22 09:39AM, Thursday\n",
            "Index: 3, ID: u0usd1jtoe, Time: 2024/02/22 08:43AM, Thursday\n",
            "Index: 4, ID: u0usd1jtoe, Time: 2024/02/21 08:30PM, Wednesday\n",
            "Index: 5, ID: u0usd1jtoe, Time: 2024/02/20 09:20PM, Tuesday\n",
            "Index: 6, ID: u0usd1jtoe, Time: 2024/02/20 01:48PM, Tuesday\n",
            "Index: 7, ID: u0usd1jtoe, Time: 2024/02/20 03:38AM, Tuesday\n",
            "Index: 8, ID: u0usd1jtoe, Time: 2024/02/20 03:32AM, Tuesday\n",
            "Index: 9, ID: u0usd1jtoe, Time: 2024/02/18 01:41PM, Sunday\n",
            "Final fare for customer ID: u0usd1jtoe, Time: 2024/02/24 05:23PM, Saturday, Fare: $2.29\n",
            "Tracking payment history:\n",
            "Index: 1, ID: 3a85eaqtar, Time: 2024/02/24 07:07AM, Saturday\n",
            "Index: 2, ID: 3a85eaqtar, Time: 2024/02/24 01:22AM, Saturday\n",
            "Index: 3, ID: 3a85eaqtar, Time: 2024/02/23 07:23PM, Friday\n",
            "Index: 4, ID: 3a85eaqtar, Time: 2024/02/23 04:14PM, Friday\n",
            "Index: 5, ID: 3a85eaqtar, Time: 2024/02/23 12:29PM, Friday\n",
            "Index: 6, ID: 3a85eaqtar, Time: 2024/02/22 06:22PM, Thursday\n",
            "Index: 7, ID: 3a85eaqtar, Time: 2024/02/22 03:25PM, Thursday\n",
            "Index: 8, ID: 3a85eaqtar, Time: 2024/02/22 02:56AM, Thursday\n",
            "Index: 9, ID: 3a85eaqtar, Time: 2024/02/20 10:59AM, Tuesday\n",
            "Index: 10, ID: 3a85eaqtar, Time: 2024/02/19 08:04PM, Monday\n",
            "Index: 11, ID: 3a85eaqtar, Time: 2024/02/19 07:38PM, Monday\n",
            "Index: 12, ID: 3a85eaqtar, Time: 2024/02/19 05:28PM, Monday\n",
            "Final fare for customer ID: 3a85eaqtar, Time: 2024/02/24 05:10PM, Saturday, Fare: Free\n",
            "Tracking payment history:\n",
            "Index: 1, ID: w3gugly5i6, Time: 2024/02/21 02:41AM, Wednesday\n",
            "Index: 2, ID: w3gugly5i6, Time: 2024/02/21 02:08AM, Wednesday\n",
            "Index: 3, ID: w3gugly5i6, Time: 2024/02/20 08:44PM, Tuesday\n",
            "Index: 4, ID: w3gugly5i6, Time: 2024/02/18 06:00PM, Sunday\n",
            "Index: 5, ID: w3gugly5i6, Time: 2024/02/17 07:05PM, Saturday\n",
            "Final fare for customer ID: w3gugly5i6, Time: 2024/02/24 04:56PM, Saturday, Fare: $2.29\n",
            "Tracking payment history:\n",
            "Index: 1, ID: h38hcpxwgj, Time: 2024/02/24 02:04AM, Saturday\n",
            "Index: 2, ID: h38hcpxwgj, Time: 2024/02/23 05:36PM, Friday\n",
            "Index: 3, ID: h38hcpxwgj, Time: 2024/02/23 03:47PM, Friday\n",
            "Index: 4, ID: h38hcpxwgj, Time: 2024/02/23 02:38PM, Friday\n",
            "Index: 5, ID: h38hcpxwgj, Time: 2024/02/23 02:35AM, Friday\n",
            "Index: 6, ID: h38hcpxwgj, Time: 2024/02/23 01:21AM, Friday\n",
            "Index: 7, ID: h38hcpxwgj, Time: 2024/02/23 01:20AM, Friday\n",
            "Index: 8, ID: h38hcpxwgj, Time: 2024/02/22 01:37PM, Thursday\n",
            "Index: 9, ID: h38hcpxwgj, Time: 2024/02/22 11:35AM, Thursday\n",
            "Index: 10, ID: h38hcpxwgj, Time: 2024/02/21 01:05PM, Wednesday\n",
            "Index: 11, ID: h38hcpxwgj, Time: 2024/02/21 06:08AM, Wednesday\n",
            "Index: 12, ID: h38hcpxwgj, Time: 2024/02/21 04:55AM, Wednesday\n",
            "Final fare for customer ID: h38hcpxwgj, Time: 2024/02/24 04:23PM, Saturday, Fare: Free\n",
            "Tracking payment history:\n",
            "Index: 1, ID: j03vhlqfuc, Time: 2024/02/23 03:22AM, Friday\n",
            "Index: 2, ID: j03vhlqfuc, Time: 2024/02/22 01:42AM, Thursday\n",
            "Index: 3, ID: j03vhlqfuc, Time: 2024/02/21 01:10PM, Wednesday\n",
            "Index: 4, ID: j03vhlqfuc, Time: 2024/02/21 03:54AM, Wednesday\n",
            "Index: 5, ID: j03vhlqfuc, Time: 2024/02/20 06:44PM, Tuesday\n",
            "Index: 6, ID: j03vhlqfuc, Time: 2024/02/19 11:18PM, Monday\n",
            "Index: 7, ID: j03vhlqfuc, Time: 2024/02/18 06:45PM, Sunday\n",
            "Index: 8, ID: j03vhlqfuc, Time: 2024/02/18 02:57PM, Sunday\n",
            "Index: 9, ID: j03vhlqfuc, Time: 2024/02/18 02:26AM, Sunday\n",
            "Index: 10, ID: j03vhlqfuc, Time: 2024/02/17 06:58PM, Saturday\n",
            "Final fare for customer ID: j03vhlqfuc, Time: 2024/02/24 04:22PM, Saturday, Fare: $2.29\n",
            "Tracking payment history:\n",
            "Index: 1, ID: 0rldwvk67d, Time: 2024/02/24 05:01AM, Saturday\n",
            "Index: 2, ID: 0rldwvk67d, Time: 2024/02/22 07:52PM, Thursday\n",
            "Index: 3, ID: 0rldwvk67d, Time: 2024/02/22 04:49PM, Thursday\n",
            "Index: 4, ID: 0rldwvk67d, Time: 2024/02/20 07:09PM, Tuesday\n",
            "Index: 5, ID: 0rldwvk67d, Time: 2024/02/20 04:44AM, Tuesday\n",
            "Index: 6, ID: 0rldwvk67d, Time: 2024/02/20 02:38AM, Tuesday\n",
            "Index: 7, ID: 0rldwvk67d, Time: 2024/02/20 12:22AM, Tuesday\n",
            "Index: 8, ID: 0rldwvk67d, Time: 2024/02/19 06:53PM, Monday\n",
            "Index: 9, ID: 0rldwvk67d, Time: 2024/02/19 02:03PM, Monday\n",
            "Index: 10, ID: 0rldwvk67d, Time: 2024/02/18 11:30PM, Sunday\n",
            "Index: 11, ID: 0rldwvk67d, Time: 2024/02/18 09:54PM, Sunday\n",
            "Index: 12, ID: 0rldwvk67d, Time: 2024/02/18 12:39PM, Sunday\n",
            "Final fare for customer ID: 0rldwvk67d, Time: 2024/02/24 04:19PM, Saturday, Fare: Free\n",
            "Tracking payment history:\n",
            "Index: 1, ID: wr7w6w4f5f, Time: 2024/02/24 03:31AM, Saturday\n",
            "Index: 2, ID: wr7w6w4f5f, Time: 2024/02/23 11:18PM, Friday\n",
            "Index: 3, ID: wr7w6w4f5f, Time: 2024/02/23 10:23AM, Friday\n",
            "Index: 4, ID: wr7w6w4f5f, Time: 2024/02/23 04:55AM, Friday\n",
            "Index: 5, ID: wr7w6w4f5f, Time: 2024/02/23 01:16AM, Friday\n",
            "Index: 6, ID: wr7w6w4f5f, Time: 2024/02/22 01:17PM, Thursday\n",
            "Index: 7, ID: wr7w6w4f5f, Time: 2024/02/21 10:58PM, Wednesday\n",
            "Index: 8, ID: wr7w6w4f5f, Time: 2024/02/21 06:23PM, Wednesday\n",
            "Index: 9, ID: wr7w6w4f5f, Time: 2024/02/21 05:28PM, Wednesday\n",
            "Index: 10, ID: wr7w6w4f5f, Time: 2024/02/21 08:59AM, Wednesday\n",
            "Index: 11, ID: wr7w6w4f5f, Time: 2024/02/20 07:06PM, Tuesday\n",
            "Index: 12, ID: wr7w6w4f5f, Time: 2024/02/19 04:35AM, Monday\n",
            "Final fare for customer ID: wr7w6w4f5f, Time: 2024/02/24 04:17PM, Saturday, Fare: Free\n"
          ]
        }
      ]
    }
  ]
}